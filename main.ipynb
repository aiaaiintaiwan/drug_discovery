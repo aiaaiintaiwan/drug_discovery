{
 "cells": [
  {
   "cell_type": "code",
   "execution_count": 1,
   "metadata": {},
   "outputs": [],
   "source": [
    "import numpy as np\n",
    "import tensorflow as tf\n",
    "from tensorflow import keras\n",
    "from tensorflow.keras.models import Sequential, Model\n",
    "from tensorflow.keras.layers import Dense, Input, Embedding, Concatenate, Conv1D, Add, Multiply, LSTM, Lambda, Flatten\n",
    "from tensorflow.keras.initializers import RandomNormal\n",
    "from tensorflow.keras.preprocessing import sequence, text\n",
    "from tensorflow.keras.losses import SparseCategoricalCrossentropy, CategoricalCrossentropy\n",
    "from tensorflow.keras import callbacks\n",
    "from tensorflow.keras.utils import plot_model\n",
    "from sklearn.model_selection import train_test_split\n",
    "from sklearn.utils import shuffle\n",
    "\n",
    "import os\n",
    "import glob\n",
    "import json\n",
    "import rdkit\n",
    "from rdkit import Chem\n",
    "from tqdm import tqdm\n",
    "from tqdm import tqdm_notebook\n",
    "import time\n",
    "import datetime\n",
    "import matplotlib.pyplot as plt"
   ]
  },
  {
   "cell_type": "markdown",
   "metadata": {},
   "source": [
    "## Hyperparameters"
   ]
  },
  {
   "cell_type": "code",
   "execution_count": 3,
   "metadata": {},
   "outputs": [],
   "source": [
    "# Data loading parameters\n",
    "DATASET_DIR = './dataset/'\n",
    "SMILES_FILENAME = '250k_rndm_zinc_drugs_clean'\n",
    "MAPPING_DIR = './mapping/'\n",
    "MAPPING_TABLE_DIR = MAPPING_DIR + SMILES_FILENAME\n",
    "\n",
    "# Model Hyperparameters\n",
    "SMILES_MAX_LEN = 50\n",
    "EMBEDDING_DIM = 128\n",
    "FILTER_SIZES = (3, 4)\n",
    "FILTER_NUM = 128\n",
    "LATENT_DIM = 300\n",
    "LSTM_CELLS_NUM = LATENT_DIM//2\n",
    "DIVERSITY = 1\n",
    "\n",
    "# Training Parameters \n",
    "BATCH_SIZE = 64\n",
    "NUM_EPOCHS = 100\n",
    "CHECKPOINT_PERIOD = 50\n",
    "LR = 0.001\n",
    "\n",
    "# Load mapping table\n",
    "with open(MAPPING_TABLE_DIR + '/tokenizer.json', 'r') as f:\n",
    "    tokenizer = text.tokenizer_from_json(json.load(f))\n",
    "\n",
    "SMILES_DIM = len(tokenizer.word_index)"
   ]
  },
  {
   "cell_type": "markdown",
   "metadata": {},
   "source": [
    "## Load Training Dataset"
   ]
  },
  {
   "cell_type": "code",
   "execution_count": 4,
   "metadata": {},
   "outputs": [
    {
     "name": "stderr",
     "output_type": "stream",
     "text": [
      "100%|██████████| 249456/249456 [00:03<00:00, 74173.44it/s] \n"
     ]
    }
   ],
   "source": [
    "# Load training data\n",
    "x_train = []\n",
    "smiles_counter = 0\n",
    "with open(DATASET_DIR + SMILES_FILENAME + '.smi') as f:\n",
    "    for smiles in tqdm(f.readlines()):\n",
    "        # Mapping\n",
    "        if len(smiles) < SMILES_MAX_LEN:\n",
    "            smiles_counter += 1\n",
    "            sequences = tokenizer.texts_to_sequences([smiles])\n",
    "            x_train.append(sequences)\n",
    "        if smiles_counter > 250000:\n",
    "            break\n",
    "x_train = np.squeeze(np.array(x_train))"
   ]
  },
  {
   "cell_type": "code",
   "execution_count": 5,
   "metadata": {},
   "outputs": [
    {
     "name": "stdout",
     "output_type": "stream",
     "text": [
      "Total training dataset: 173197\n"
     ]
    }
   ],
   "source": [
    "print(\"Total training dataset: {}\".format(len(x_train)))"
   ]
  },
  {
   "cell_type": "code",
   "execution_count": 6,
   "metadata": {},
   "outputs": [
    {
     "name": "stdout",
     "output_type": "stream",
     "text": [
      "[ 2  2  3  2  4  3  2  4  1  5  1  1  1  7 22  1  1  3  2  2  3  9  6  4\n",
      "  8  1 15  1  1  1  1  1 15 16  4  1  7  1  5 36 36 36 36 36 36 36 36 36\n",
      " 36 36]\n",
      "(50,)\n",
      "(173197, 50)\n"
     ]
    }
   ],
   "source": [
    "# Pad\n",
    "x_train = sequence.pad_sequences(x_train, maxlen=SMILES_MAX_LEN, padding='post', value=tokenizer.word_index['<PAD>'])\n",
    "\n",
    "# Save token\n",
    "np.save(MAPPING_TABLE_DIR + '/token', x_train)\n",
    "\n",
    "print(x_train[0])\n",
    "print(x_train[0].shape)\n",
    "print(x_train.shape)"
   ]
  },
  {
   "cell_type": "code",
   "execution_count": 7,
   "metadata": {},
   "outputs": [
    {
     "name": "stdout",
     "output_type": "stream",
     "text": [
      "x_train shape: (173197, 50)\n"
     ]
    }
   ],
   "source": [
    "# Shuffle data\n",
    "np.random.shuffle(x_train)\n",
    "\n",
    "print('x_train shape:', x_train.shape)"
   ]
  },
  {
   "cell_type": "markdown",
   "metadata": {},
   "source": [
    "## VAE Model (subclassing version)"
   ]
  },
  {
   "cell_type": "markdown",
   "metadata": {},
   "source": [
    "### Encoder (subclassing layer API)"
   ]
  },
  {
   "cell_type": "code",
   "execution_count": 8,
   "metadata": {},
   "outputs": [],
   "source": [
    "class Sampling(keras.layers.Layer):\n",
    "    def __init__(self, lstm_cells_num, name='Sampling'):\n",
    "        super(Sampling, self).__init__()\n",
    "        self.lstm_cells_num = lstm_cells_num\n",
    "        self.diversity = 1\n",
    "        \n",
    "    def call(self, x):\n",
    "        z_mean, z_logvar = x\n",
    "        batch = tf.shape(z_mean)[0]\n",
    "        dim = tf.shape(z_mean)[1]\n",
    "        \n",
    "        # latent variable\n",
    "        normal_z = tf.random.normal(shape=(batch, dim), name='normal', stddev=(1.0 * self.diversity))\n",
    "        z = z_mean + z_logvar * normal_z # original CDN code\n",
    "        \n",
    "        # decoder input\n",
    "        state_h, state_c = z[:, :self.lstm_cells_num], z[:, self.lstm_cells_num:]\n",
    "        \n",
    "        # KL-divergence\n",
    "        kl_loss = 0.5 * tf.reduce_sum(tf.square(z_mean) + tf.square(z_logvar) - tf.math.log(tf.square(z_logvar)) - 1, 1)\n",
    "        kl_loss = tf.reduce_mean(kl_loss)\n",
    "        \n",
    "        return z, kl_loss, state_h, state_c\n",
    "    \n",
    "    def set_diversity(self, diversity):\n",
    "        self.diversity = diversity\n",
    "        \n",
    "    def get_config(self):\n",
    "        return {\n",
    "            \"diversity\": self.diversity\n",
    "        }"
   ]
  },
  {
   "cell_type": "code",
   "execution_count": 9,
   "metadata": {},
   "outputs": [],
   "source": [
    "class Encoder(keras.layers.Layer):\n",
    "    def __init__(self, smiles_dim, smiles_max_len, embedding_dim, filter_sz, filter_num, latent_dim, lstm_cells_num, name='Encoder'):\n",
    "        super(Encoder, self).__init__()\n",
    "        self.smiles_dim = smiles_dim\n",
    "        self.smiles_max_len = smiles_max_len\n",
    "        self.embedding_dim = embedding_dim\n",
    "        self.filter_sz = filter_sz\n",
    "        self.filter_num = filter_num\n",
    "        self.latent_dim = latent_dim\n",
    "        self.lstm_cells_num = lstm_cells_num\n",
    "        \n",
    "        self.embedding = Embedding(input_dim=self.smiles_dim,\n",
    "                                         output_dim=self.embedding_dim,\n",
    "                                         input_length=self.smiles_max_len,\n",
    "                                         embeddings_initializer='uniform', \n",
    "                                         name='Embedding')\n",
    "        \n",
    "        self.conv_3 =  Conv1D(filters=self.filter_num,\n",
    "                              kernel_size=self.filter_sz[0],\n",
    "                              padding='valid',\n",
    "                              activation='relu',\n",
    "                              strides=1,\n",
    "                              kernel_initializer='TruncatedNormal',\n",
    "                              name='Conv-{}'.format(self.filter_sz[0]))\n",
    "        \n",
    "        self.conv_4 =  Conv1D(filters=self.filter_num,\n",
    "                              kernel_size=self.filter_sz[1],\n",
    "                              padding='valid',\n",
    "                              activation='relu',\n",
    "                              strides=1,\n",
    "                              kernel_initializer='TruncatedNormal',\n",
    "                              name='Conv-{}'.format(self.filter_sz[1]))\n",
    "        \n",
    "        \n",
    "        self.conv = [self.conv_3, self.conv_4]\n",
    "        \n",
    "        self.flatten = Flatten()\n",
    "        self.concate = Concatenate(axis=1, name='Concate')\n",
    "        self.dense = Dense(450, activation='relu')\n",
    "        self.z_mean = Dense(self.latent_dim, name='z_mean')\n",
    "        self.z_logvar = Dense(self.latent_dim, name='z_log_var')\n",
    "        self.sampling = Sampling(self.lstm_cells_num)\n",
    "        \n",
    "    def call(self, x):\n",
    "        encoded_x = self.embedding(x)\n",
    "        \n",
    "        conv_blocks = []\n",
    "        for conv in self.conv:\n",
    "            _ = conv(encoded_x)\n",
    "            conv_blocks.append(self.flatten(_))\n",
    "            \n",
    "        x = self.concate(conv_blocks)\n",
    "        x = self.dense(x)\n",
    "        z_mean = self.z_mean(x)\n",
    "        z_logvar = self.z_logvar(x)\n",
    "        z, kl_loss, state_h, state_c = self.sampling((z_mean, z_logvar))\n",
    "        \n",
    "        return encoded_x, z, kl_loss, state_h, state_c"
   ]
  },
  {
   "cell_type": "markdown",
   "metadata": {},
   "source": [
    "### Decoder (Subclassing API)"
   ]
  },
  {
   "cell_type": "code",
   "execution_count": 10,
   "metadata": {},
   "outputs": [],
   "source": [
    "class Decoder2(keras.layers.Layer):\n",
    "    def __init__(self, smiles_dim, smiles_max_len, embedding_dim, lstm_cells_num, name='Decoder'):\n",
    "        super(Decoder2, self).__init__()\n",
    "        self.smiles_dim = smiles_dim\n",
    "        self.smiles_max_len = smiles_max_len\n",
    "        self.embedding_dim = embedding_dim\n",
    "        self.lstm_cells_num = lstm_cells_num\n",
    "        \n",
    "        self.lstm_cell = keras.layers.LSTMCell(self.lstm_cells_num, name='LSTM')\n",
    "        self.dense_output = Dense(self.smiles_dim, activation='softmax', name='Decoder-Output')\n",
    "        \n",
    "    def call(self, x, state_h, state_c):\n",
    "        init_state_h = state_h\n",
    "        init_state_c = state_c\n",
    "        \n",
    "        x = tf.split(x, self.smiles_max_len, axis=1)\n",
    "        x = [tf.squeeze(i, axis=1) for i in x]\n",
    "        \n",
    "        temp_logits = []\n",
    "        for i in range(SMILES_MAX_LEN):\n",
    "            if i == 0:\n",
    "                output, state = self.lstm_cell(x[i], states=[init_state_h, init_state_c])\n",
    "            else:\n",
    "                output, state = self.lstm_cell(x[i], states=state)\n",
    "            temp_logits.append(self.dense_output(output)) # (50, batch, 37), due to for-loop\n",
    "        decoder_logits = tf.transpose(tf.stack(temp_logits), perm=[1, 0, 2]) # (batch, 50, 37)\n",
    "        return decoder_logits"
   ]
  },
  {
   "cell_type": "markdown",
   "metadata": {},
   "source": [
    "### VAE model (subclassing model API)"
   ]
  },
  {
   "cell_type": "code",
   "execution_count": 11,
   "metadata": {},
   "outputs": [],
   "source": [
    "class VAE(Model):\n",
    "    def __init__(self, encoder, decoder, **kwargs):\n",
    "        super(VAE, self).__init__(**kwargs)\n",
    "        self.encoder = encoder\n",
    "        self.decoder = decoder\n",
    "        self.latent_space = []\n",
    "        \n",
    "    def call(self, x):\n",
    "        encoded_x, z, kl_loss, state_h, state_c = self.encoder(x)\n",
    "        decoded_output = self.decoder(encoded_x, state_h, state_c)\n",
    "        self.latent_space.append(z)\n",
    "        return decoded_output\n",
    "        \n",
    "    def train_step(self, data):\n",
    "        if isinstance(data, tuple):\n",
    "            data = data[0] # fetch 1 batch data\n",
    "            self.temp_tensor = data\n",
    "\n",
    "        with tf.GradientTape() as tape:\n",
    "            encoded_x, z, kl_loss, state_h, state_c = self.encoder(data)\n",
    "            y_pred = self(data)\n",
    "            \n",
    "            # for monitoring\n",
    "            self.latent_space.append(z)\n",
    "            \n",
    "            # Reconstrunction loss\n",
    "            y_true = tf.one_hot(tf.cast(data, tf.int32), self.encoder.smiles_dim)\n",
    "            cce = CategoricalCrossentropy()\n",
    "            reconstruction_loss = cce(y_true, y_pred)\n",
    "            \n",
    "            # Total loss\n",
    "            total_loss = .00001 * kl_loss + reconstruction_loss\n",
    "            \n",
    "            # Acc\n",
    "            acc = self.accuracy(data, y_pred)\n",
    "            \n",
    "        grads = tape.gradient(total_loss, self.trainable_variables)\n",
    "        self.optimizer.apply_gradients(zip(grads, self.trainable_variables))\n",
    "        return {\n",
    "            'loss': total_loss,\n",
    "            'reconstruction_loss': reconstruction_loss,\n",
    "            'kl_loss': kl_loss,\n",
    "            'acc': acc\n",
    "        }\n",
    "    \n",
    "    def test_step(self, data):\n",
    "        data = data[0] \n",
    "        encoded_x, z, kl_loss, state_h, state_c = self.encoder(data, training=False)\n",
    "        y_pred = self(data, training=False)\n",
    "        y_true = tf.one_hot(tf.cast(data, tf.int32), self.encoder.smiles_dim)\n",
    "        cce = CategoricalCrossentropy()\n",
    "        reconstruction_loss = cce(y_true, y_pred)\n",
    "        total_loss = .00001 * kl_loss + reconstruction_loss\n",
    "        acc = self.accuracy(data, y_pred)\n",
    "        \n",
    "        return {\n",
    "            'loss': total_loss,\n",
    "            'reconstruction_loss': reconstruction_loss,\n",
    "            'kl_loss': kl_loss,\n",
    "            'acc': acc\n",
    "        }\n",
    "    \n",
    "    def accuracy(self, data, pred):\n",
    "        decoder_pred = tf.argmax(pred, axis=2)\n",
    "        correct_pred = tf.equal(decoder_pred, tf.cast(data, 'int64'))\n",
    "        acc = tf.reduce_mean(tf.cast(correct_pred, 'float64'))\n",
    "        \n",
    "        return acc\n",
    "    \n",
    "    def get_config(self):\n",
    "        return {\n",
    "            \"z\": self.latent_space\n",
    "        }"
   ]
  },
  {
   "cell_type": "code",
   "execution_count": 31,
   "metadata": {},
   "outputs": [],
   "source": [
    "dataset_dir = '250k_rndm_zinc_drugs_clean'\n",
    "\n",
    "# load data (if we alread have)\n",
    "x_train = np.load('./mapping/{}/token.npy'.format(dataset_dir))\n",
    "x_train, x_valid = train_test_split(x_train, test_size=0.2, random_state=108)\n",
    "\n",
    "# Load mapping table\n",
    "with open('./mapping/{}/tokenizer.json'.format(dataset_dir), 'r') as f:\n",
    "    tokenizer = text.tokenizer_from_json(json.load(f))\n",
    "\n",
    "SMILES_DIM = len(tokenizer.word_index)"
   ]
  },
  {
   "cell_type": "code",
   "execution_count": null,
   "metadata": {},
   "outputs": [
    {
     "name": "stdout",
     "output_type": "stream",
     "text": [
      "Epoch 1/100\n",
      "2528/2707 [===========================>..] - ETA: 42s - loss: 0.0912 - reconstruction_loss: 0.0884 - kl_loss: 285.1545 - acc: 0.9793"
     ]
    }
   ],
   "source": [
    "# for test\n",
    "encoder = Encoder(SMILES_DIM, SMILES_MAX_LEN, EMBEDDING_DIM, FILTER_SIZES, FILTER_NUM, LATENT_DIM, LSTM_CELLS_NUM, name='encoder')\n",
    "decoder = Decoder2(SMILES_DIM, SMILES_MAX_LEN, EMBEDDING_DIM, LSTM_CELLS_NUM, name='decoder')\n",
    "vae = VAE(encoder, decoder, name='vae')\n",
    "\n",
    "optimizer = keras.optimizers.Adam(lr=LR)\n",
    "vae.compile(optimizer=optimizer, metrics=['val_loss'])\n",
    "vae.encoder.sampling.diversity = 5\n",
    "\n",
    "callbacks = [\n",
    "    tf.keras.callbacks.EarlyStopping(patience=5),\n",
    "#     tf.keras.callbacks.TensorBoard(log|_dir='./logs'),\n",
    "]\n",
    "\n",
    "history = vae.fit(x_train,\n",
    "                  epochs=NUM_EPOCHS,\n",
    "                  batch_size=BATCH_SIZE,\n",
    "                  shuffle=True,\n",
    "                  callbacks=callbacks)"
   ]
  },
  {
   "cell_type": "markdown",
   "metadata": {},
   "source": [
    "## Prediction"
   ]
  },
  {
   "cell_type": "code",
   "execution_count": 147,
   "metadata": {},
   "outputs": [
    {
     "data": {
      "image/png": "[encoded data removed]",
      "text/plain": [
       "<rdkit.Chem.rdchem.Mol at 0x7f04e1778170>"
      ]
     },
     "execution_count": 147,
     "metadata": {},
     "output_type": "execute_result"
    }
   ],
   "source": [
    "Chem.MolFromSmiles('CNC1=NC=C(C=C1)C2=NC3=C(C=C2)C=C(C=C3)OC[C@@H](CF)O') # 原始輸入：待預測的藥物"
   ]
  },
  {
   "cell_type": "code",
   "execution_count": 148,
   "metadata": {},
   "outputs": [
    {
     "data": {
      "text/plain": [
       "184"
      ]
     },
     "execution_count": 148,
     "metadata": {},
     "output_type": "execute_result"
    }
   ],
   "source": [
    "# load data\n",
    "PREDICTION_DIR = './prediction/'\n",
    "drugs_smiles = []\n",
    "with open(PREDICTION_DIR + '/20200715.txt', 'r') as f:\n",
    "    for smiles in f.readlines():\n",
    "        drugs_smiles.append(smiles.split('\\n')[0])\n",
    "\n",
    "len(drugs_smiles)"
   ]
  },
  {
   "cell_type": "code",
   "execution_count": 149,
   "metadata": {},
   "outputs": [],
   "source": [
    "test_smiles = tokenizer.texts_to_sequences(drugs_smiles)\n",
    "test_smiles = np.squeeze(np.array(test_smiles))\n",
    "test_smiles = sequence.pad_sequences(test_smiles, maxlen=SMILES_MAX_LEN, padding='post', value=tokenizer.word_index['<PAD>'])"
   ]
  },
  {
   "cell_type": "code",
   "execution_count": 143,
   "metadata": {},
   "outputs": [],
   "source": [
    "vae.encoder.sampling.diversity = 3000"
   ]
  },
  {
   "cell_type": "code",
   "execution_count": 150,
   "metadata": {},
   "outputs": [],
   "source": [
    "outputs = vae.predict(test_smiles)\n",
    "pred_drug = np.argmax(outputs, axis=2)\n",
    "# pred_drug\n",
    "\n",
    "original_pred_drug = tokenizer.sequences_to_texts(pred_drug)\n",
    "original_pred_drug = [x.replace(' ', '') for x in original_pred_drug]"
   ]
  },
  {
   "cell_type": "code",
   "execution_count": 151,
   "metadata": {},
   "outputs": [
    {
     "data": {
      "image/png": "[encoded data removed]",
      "text/plain": [
       "<rdkit.Chem.rdchem.Mol at 0x7f04e1778990>"
      ]
     },
     "execution_count": 151,
     "metadata": {},
     "output_type": "execute_result"
    }
   ],
   "source": [
    "Chem.MolFromSmiles('CNC1=NC=C(C=C1)C2=NC3=C(C=C2)C=C(C=C3)OC[C@@H](CF)O') # 原始輸入"
   ]
  },
  {
   "cell_type": "code",
   "execution_count": 152,
   "metadata": {},
   "outputs": [
    {
     "data": {
      "image/png": "[encoded data removed]",
      "text/plain": [
       "<rdkit.Chem.rdchem.Mol at 0x7f04d409e800>"
      ]
     },
     "execution_count": 152,
     "metadata": {},
     "output_type": "execute_result"
    }
   ],
   "source": [
    "Chem.MolFromSmiles(original_pred_drug[2]) # 新生成全新的藥物"
   ]
  }
 ],
 "metadata": {
  "kernelspec": {
   "display_name": "Python 3",
   "language": "python",
   "name": "python3"
  },
  "language_info": {
   "codemirror_mode": {
    "name": "ipython",
    "version": 3
   },
   "file_extension": ".py",
   "mimetype": "text/x-python",
   "name": "python",
   "nbconvert_exporter": "python",
   "pygments_lexer": "ipython3",
   "version": "3.6.9"
  }
 },
 "nbformat": 4,
 "nbformat_minor": 4
}
